{
  "nbformat": 4,
  "nbformat_minor": 0,
  "metadata": {
    "colab": {
      "provenance": []
    },
    "kernelspec": {
      "name": "python3",
      "display_name": "Python 3"
    },
    "language_info": {
      "name": "python"
    }
  },
  "cells": [
    {
      "cell_type": "code",
      "source": [
        "import numpy as np\n",
        "import pandas as pd\n",
        "data = pd.read_csv('/content/diabetes (1).csv')\n",
        "\n",
        "print(data.head) #read the data"
      ],
      "metadata": {
        "colab": {
          "base_uri": "https://localhost:8080/"
        },
        "id": "XHbEWdXDxRSF",
        "outputId": "7c8c717b-b32c-4a30-a5bd-e0dc163d81f1"
      },
      "execution_count": 3,
      "outputs": [
        {
          "output_type": "stream",
          "name": "stdout",
          "text": [
            "<bound method NDFrame.head of      Pregnancies  Glucose  BloodPressure  SkinThickness  Insulin   BMI  \\\n",
            "0              6      148             72             35        0  33.6   \n",
            "1              1       85             66             29        0  26.6   \n",
            "2              8      183             64              0        0  23.3   \n",
            "3              1       89             66             23       94  28.1   \n",
            "4              0      137             40             35      168  43.1   \n",
            "..           ...      ...            ...            ...      ...   ...   \n",
            "763           10      101             76             48      180  32.9   \n",
            "764            2      122             70             27        0  36.8   \n",
            "765            5      121             72             23      112  26.2   \n",
            "766            1      126             60              0        0  30.1   \n",
            "767            1       93             70             31        0  30.4   \n",
            "\n",
            "     DiabetesPedigreeFunction  Age  Outcome  \n",
            "0                       0.627   50        1  \n",
            "1                       0.351   31        0  \n",
            "2                       0.672   32        1  \n",
            "3                       0.167   21        0  \n",
            "4                       2.288   33        1  \n",
            "..                        ...  ...      ...  \n",
            "763                     0.171   63        0  \n",
            "764                     0.340   27        0  \n",
            "765                     0.245   30        0  \n",
            "766                     0.349   47        1  \n",
            "767                     0.315   23        0  \n",
            "\n",
            "[768 rows x 9 columns]>\n"
          ]
        }
      ]
    },
    {
      "cell_type": "code",
      "source": [
        "print(data.columns)\n",
        "cols = list(np.arange(0,7))\n",
        "X=data[data.columns[cols]]\n",
        "y=data[data.columns[8]]\n",
        "print(y)"
      ],
      "metadata": {
        "colab": {
          "base_uri": "https://localhost:8080/"
        },
        "id": "auReaVyGynwf",
        "outputId": "d96ed2f6-2341-4fe4-d89c-3cb161636598"
      },
      "execution_count": 4,
      "outputs": [
        {
          "output_type": "stream",
          "name": "stdout",
          "text": [
            "Index(['Pregnancies', 'Glucose', 'BloodPressure', 'SkinThickness', 'Insulin',\n",
            "       'BMI', 'DiabetesPedigreeFunction', 'Age', 'Outcome'],\n",
            "      dtype='object')\n",
            "0      1\n",
            "1      0\n",
            "2      1\n",
            "3      0\n",
            "4      1\n",
            "      ..\n",
            "763    0\n",
            "764    0\n",
            "765    0\n",
            "766    1\n",
            "767    0\n",
            "Name: Outcome, Length: 768, dtype: int64\n"
          ]
        }
      ]
    },
    {
      "cell_type": "code",
      "source": [
        "import numpy as np\n",
        "import pandas as pd\n",
        "\n",
        "class LogisticRegression:\n",
        "    def __init__(self, learning_rate=0.01, num_iter=100000, fit_intercept=True, verbose=True, split_ratio=0.8):\n",
        "        self.learning_rate = learning_rate\n",
        "        self.num_iter = num_iter\n",
        "        self.fit_intercept = fit_intercept\n",
        "        self.verbose = verbose\n",
        "        self.split_ratio = split_ratio\n",
        "\n",
        "    def __add_intercept(self, X):\n",
        "        intercept = np.ones((X.shape[0], 1))\n",
        "        return np.concatenate((intercept, X), axis=1)\n",
        "\n",
        "    def __sigmoid(self, z):\n",
        "        return np.where(z >= 0, 1 / (1 + np.exp(-z)),  np.exp(z) / (1 + np.exp(z)))\n",
        "    def __loss(self, h, y):\n",
        "        return (-y * np.log(h) - (1 - y) * np.log(1 - h)).mean()\n",
        "\n",
        "    def split(self, X, y):\n",
        "\n",
        "        train_size = int(self.split_ratio * X.shape[0])\n",
        "\n",
        "        # Split the data\n",
        "        X_train = X[:train_size]\n",
        "        X_test = X[train_size:]\n",
        "        y_train = y[:train_size]\n",
        "        y_test = y[train_size:]\n",
        "\n",
        "        return X_train, X_test, y_train, y_test\n",
        "\n",
        "    def fit(self, X, y):\n",
        "        X_train, X_test, y_train, y_test = self.split(X, y)\n",
        "\n",
        "        if self.fit_intercept:\n",
        "            X_train = self.__add_intercept(X_train)\n",
        "\n",
        "        self.theta = np.zeros(X_train.shape[1])\n",
        "\n",
        "        for i in range(self.num_iter):\n",
        "            z = np.dot(X_train, self.theta)\n",
        "            h = self.__sigmoid(z)\n",
        "            gradient = np.dot(X_train.T, (h - y_train)) / y_train.size\n",
        "            self.theta -= self.learning_rate * gradient\n",
        "\n",
        "            if(self.verbose ==True and i % 10000 == 0):\n",
        "                z = np.dot(X_train, self.theta)\n",
        "                h = self.__sigmoid(z)\n",
        "                loss = self.__loss(h, y_train)\n",
        "                print(f'loss: {loss} \\t')\n",
        "        return X_test,y_test\n",
        "\n",
        "    def predict_prob(self, X):\n",
        "        if self.fit_intercept:\n",
        "            X = self.__add_intercept(X)\n",
        "\n",
        "        return self.__sigmoid(np.dot(X, self.theta))\n",
        "\n",
        "    def predict(self, X):\n",
        "        return self.predict_prob(X).round()\n",
        "\n",
        "    def accuracy(self, X_test, y_test):\n",
        "\n",
        "        y_pred = self.predict(X_test)\n",
        "\n",
        "\n",
        "        correct_predictions = np.sum(y_pred == y_test)\n",
        "\n",
        "\n",
        "        accuracy = correct_predictions / len(y_pred)\n",
        "        print(accuracy)\n",
        "\n"
      ],
      "metadata": {
        "id": "m8thoYOv0bwB"
      },
      "execution_count": 5,
      "outputs": []
    },
    {
      "cell_type": "code",
      "source": [
        "model = LogisticRegression(learning_rate=0.1, num_iter=200000)\n",
        "X_test, y_test = model.fit(X, y)\n",
        "model.accuracy(X_test, y_test)\n"
      ],
      "metadata": {
        "colab": {
          "base_uri": "https://localhost:8080/"
        },
        "id": "Up0ZENwqw4sA",
        "outputId": "ae05c5a9-81f5-4441-c4fe-2efa04249053"
      },
      "execution_count": 6,
      "outputs": [
        {
          "output_type": "stream",
          "name": "stdout",
          "text": [
            "loss: 99.90012304771403 \t\n"
          ]
        },
        {
          "output_type": "stream",
          "name": "stderr",
          "text": [
            "<ipython-input-5-972b31f32be8>:17: RuntimeWarning: overflow encountered in exp\n",
            "  return np.where(z >= 0, 1 / (1 + np.exp(-z)),  np.exp(z) / (1 + np.exp(z)))\n",
            "<ipython-input-5-972b31f32be8>:17: RuntimeWarning: invalid value encountered in true_divide\n",
            "  return np.where(z >= 0, 1 / (1 + np.exp(-z)),  np.exp(z) / (1 + np.exp(z)))\n",
            "<ipython-input-5-972b31f32be8>:19: RuntimeWarning: divide by zero encountered in log\n",
            "  return (-y * np.log(h) - (1 - y) * np.log(1 - h)).mean()\n"
          ]
        },
        {
          "output_type": "stream",
          "name": "stdout",
          "text": [
            "loss: inf \t\n",
            "loss: inf \t\n",
            "loss: inf \t\n",
            "loss: inf \t\n",
            "loss: inf \t\n",
            "loss: inf \t\n",
            "loss: inf \t\n",
            "loss: inf \t\n",
            "loss: inf \t\n",
            "loss: inf \t\n",
            "loss: inf \t\n",
            "loss: inf \t\n",
            "loss: inf \t\n",
            "loss: inf \t\n",
            "loss: inf \t\n",
            "loss: inf \t\n",
            "loss: inf \t\n",
            "loss: inf \t\n",
            "loss: inf \t\n",
            "0.4935064935064935\n"
          ]
        }
      ]
    }
  ]
}